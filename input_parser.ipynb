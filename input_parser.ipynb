{
 "cells": [
  {
   "cell_type": "code",
   "execution_count": 1,
   "metadata": {},
   "outputs": [],
   "source": [
    "from ufal.udpipe import Model as udModel, Pipeline\n",
    "import re"
   ]
  },
  {
   "cell_type": "code",
   "execution_count": 2,
   "metadata": {},
   "outputs": [],
   "source": [
    "# model_path = \"finnish-tdt-ud-2.5-191206.udpipe\"\n",
    "# ud_model = udModel.load(model_path)"
   ]
  },
  {
   "cell_type": "code",
   "execution_count": 3,
   "metadata": {},
   "outputs": [],
   "source": [
    "def process_psor(token, number, person):\n",
    "    \"\"\"\n",
    "    Erases possesive suffix\n",
    "    token - string, word form\n",
    "    number - string 'Sing' or 'Plur'\n",
    "    person - string\n",
    "    \"\"\"\n",
    "    output = token\n",
    "    if 'Sing' in number:\n",
    "        if '1' in person:\n",
    "            output = re.sub(r\"ni$\", \"\", token)\n",
    "        elif '2' in person:\n",
    "            output = re.sub(r\"si$\", \"\", token)\n",
    "        elif '3' in person:\n",
    "            output = re.sub(r\"(ns[aä]|[aeiouäöy]n)$\", \"\", token)\n",
    "    elif 'Plur' in number:\n",
    "        if '1' in person:\n",
    "            output = re.sub(r\"mme$\", \"\", token)\n",
    "        elif '2' in person:\n",
    "            output = re.sub(r\"nne$\", \"\", token)\n",
    "        elif '3' in person:\n",
    "            output = re.sub(r\"(ns[aä]|[aeiouäöy]n)$\", \"\", token)\n",
    "    return output\n",
    "            \n",
    "\n",
    "def process_case(token, case):\n",
    "    \"\"\"\n",
    "    deletes case marker\n",
    "    token - string, word form\n",
    "    case - string\n",
    "    \"\"\"\n",
    "    output = token\n",
    "    if 'Abl' in case:\n",
    "        output = re.sub(r\"lt[aä]$\", \"\", token)\n",
    "    elif 'Ade' in case:\n",
    "        output = re.sub(r\"ll[aä]$\", \"\", token)\n",
    "    elif 'All' in case:\n",
    "        output = re.sub(r\"lle$\", \"\", token)\n",
    "    elif 'Ela' in case:\n",
    "        output = re.sub(r\"st[aä]$\", \"\", token)\n",
    "    elif 'Ess' in case:\n",
    "        output = re.sub(r\"n[aä]$\", \"\", token)\n",
    "    elif 'Gen' in case:\n",
    "        output = re.sub(r\"n$\", \"\", token)\n",
    "    elif 'Ill' in case:\n",
    "        output = re.sub(r\"(seen|h?[aeiouäöy]n)$\", \"\", token)\n",
    "    elif 'Ine' in case:\n",
    "        output = re.sub(r\"ss[aä]$\", \"\", token)\n",
    "#     elif 'Nom' in case:\n",
    "#         output = re.sub(r\"t$\", \"\", token)\n",
    "    elif 'Par' in case:\n",
    "        output = re.sub(r\"(t?t?[aä])$\", \"\", token)\n",
    "    elif 'Tra' in case:\n",
    "        output = re.sub(r\"ksi$\", \"\", token)\n",
    "    return output"
   ]
  },
  {
   "cell_type": "code",
   "execution_count": 4,
   "metadata": {},
   "outputs": [],
   "source": [
    "def process_number(word, number):\n",
    "    \n",
    "    return word"
   ]
  },
  {
   "cell_type": "code",
   "execution_count": 5,
   "metadata": {},
   "outputs": [],
   "source": [
    "def process_token(token):\n",
    "    output = token.form\n",
    "    if 'Number[psor]' in token.feats:\n",
    "        output = process_psor(output, token.feats['Number[psor]'], token.feats['Person[psor]'])\n",
    "    if 'Case' in token.feats:\n",
    "        case = token.feats['Case']\n",
    "        output = process_case(output, case)\n",
    "    if 'Number' in token.feats:\n",
    "        output = process_number(output, token.feats['Number'])\n",
    "    return output"
   ]
  },
  {
   "cell_type": "markdown",
   "metadata": {},
   "source": [
    "### Тест модели на заведомо корректных данных"
   ]
  },
  {
   "cell_type": "code",
   "execution_count": 6,
   "metadata": {},
   "outputs": [],
   "source": [
    "import pyconll\n",
    "\n",
    "sents = pyconll.load_from_file(\"fi_tdt-ud-test.conllu\")\n",
    "answer = {}\n",
    "for sentence in sents[:20]:\n",
    "    for token in sentence:\n",
    "        if token.xpos in ['A', 'N']:\n",
    "            if 'Sing' in token.feats['Number']:\n",
    "                answer[token.form] = process_token(token)"
   ]
  },
  {
   "cell_type": "code",
   "execution_count": 7,
   "metadata": {},
   "outputs": [
    {
     "data": {
      "text/plain": [
       "{'teatteriin': 'teatteri',\n",
       " 'pupulle': 'pupu',\n",
       " 'sisarentyttärelleni': 'sisarentyttäre',\n",
       " 'Turkuun': 'Turku',\n",
       " 'lakia': 'laki',\n",
       " 'kaupunginteatterin': 'kaupunginteatteri',\n",
       " '-musikaaliin': '-musikaali',\n",
       " 'Suxessiin': 'Suxessi',\n",
       " 'oluelle': 'olue',\n",
       " 'matkalla': 'matka',\n",
       " 'Päänsärkyä': 'Päänsärky',\n",
       " 'tukkaa': 'tukka',\n",
       " 'Asunto': 'Asunto',\n",
       " 'aistikas': 'aistikas',\n",
       " 'viinaa': 'viina',\n",
       " 'pupun': 'pupu',\n",
       " 'Mielestäni': 'Miele',\n",
       " 'hauskin': 'hauskin',\n",
       " 'osuus': 'osuus',\n",
       " 'löytäminen': 'löytäminen',\n",
       " 'pöytään': 'pöytä',\n",
       " 'pupu': 'pupu',\n",
       " 'Klubille': 'Klubi',\n",
       " 'yökerhossa': 'yökerho',\n",
       " 'vanhaa': 'vanha',\n",
       " 'tuttavaani': 'tuttavaa',\n",
       " 'uusi': 'uusi',\n",
       " 'komea': 'komea',\n",
       " 'mies': 'mies',\n",
       " 'Kiva': 'Kiva',\n",
       " 'uuden': 'uude',\n",
       " 'naaman': 'naama',\n",
       " 'mieheni': 'miehe',\n",
       " 'puolisoni': 'puoliso',\n",
       " 'vuotta': 'vuo',\n",
       " 'Mopsin': 'Mopsi',\n",
       " 'tyttönimeni': 'tyttönime',\n",
       " 'Marple': 'Marple',\n",
       " 'päässäni': 'pää',\n",
       " 'viimeisenä': 'viimeise',\n",
       " 'johtolankana': 'johtolanka',\n",
       " 'nettiin': 'netti',\n",
       " 'kuva': 'kuva',\n",
       " 'pukuliivistä': 'pukuliivi',\n",
       " 'tuntemattoman': 'tuntemattoma',\n",
       " 'nuorenmiehen': 'nuorenmiehe',\n",
       " 'olkapäätä': 'olkapää',\n",
       " 'Doctor': 'Doctor',\n",
       " 'Livingstone': 'Livingstone',\n",
       " 'I': 'I',\n",
       " 'presume': 'presume',\n",
       " 'hauska': 'hauska'}"
      ]
     },
     "execution_count": 7,
     "metadata": {},
     "output_type": "execute_result"
    }
   ],
   "source": [
    "answer"
   ]
  },
  {
   "cell_type": "code",
   "execution_count": null,
   "metadata": {},
   "outputs": [],
   "source": []
  }
 ],
 "metadata": {
  "kernelspec": {
   "display_name": "Python 3",
   "language": "python",
   "name": "python3"
  },
  "language_info": {
   "codemirror_mode": {
    "name": "ipython",
    "version": 3
   },
   "file_extension": ".py",
   "mimetype": "text/x-python",
   "name": "python",
   "nbconvert_exporter": "python",
   "pygments_lexer": "ipython3",
   "version": "3.7.1"
  }
 },
 "nbformat": 4,
 "nbformat_minor": 2
}
